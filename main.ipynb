{
 "cells": [
  {
   "cell_type": "code",
   "execution_count": 4,
   "metadata": {
    "id": "RRQdcmNRID75",
    "outputId": "9366af17-23a0-4b59-d971-3982ea09c75d"
   },
   "outputs": [
    {
     "name": "stdout",
     "output_type": "stream",
     "text": [
      "6\n"
     ]
    }
   ],
   "source": [
    "from functools import lru_cache, cache\n",
    "from typing import Any\n",
    "import time\n",
    "\n",
    "@cache\n",
    "def nearest_divisor(number):\n",
    "    divisor = 1\n",
    "    for i in range(2, int(number**0.5) + 1):\n",
    "        if number % i == 0:\n",
    "            if i < number / i:\n",
    "                divisor = i\n",
    "            else:\n",
    "                divisor = number // i\n",
    "    return divisor\n",
    "\n",
    "@lru_cache(typed=True, maxsize=30)\n",
    "def str_index(string: str, found: str, size_buf: int = -1) -> int:\n",
    "    length_s: int = len(string)\n",
    "    length_f: int = len(found)\n",
    "    if size_buf == -1:\n",
    "        size_buf = nearest_divisor(length_f)\n",
    "    if length_f % size_buf != 0:\n",
    "        raise ValueError(\"length_f must be a multiple of size_buf.\")\n",
    "    for i in range(length_s - length_f + 1):\n",
    "        if string[i:i+size_buf] == found[:size_buf]:\n",
    "            for j in range(i, i + length_f, size_buf):\n",
    "                if string[j:j+size_buf] != found[j-i:j-i+size_buf]:\n",
    "                    break\n",
    "            else:\n",
    "                return i\n",
    "    return -1\n",
    "\n",
    "\n",
    "fnd = 'wor'\n",
    "\n",
    "string = \"hello world\"\n",
    "\n",
    "print(str_index(string, fnd))"
   ]
  }
 ],
 "metadata": {
  "colab": {
   "provenance": []
  },
  "kernelspec": {
   "display_name": "Python 3 (ipykernel)",
   "language": "python",
   "name": "python3"
  },
  "language_info": {
   "codemirror_mode": {
    "name": "ipython",
    "version": 3
   },
   "file_extension": ".py",
   "mimetype": "text/x-python",
   "name": "python",
   "nbconvert_exporter": "python",
   "pygments_lexer": "ipython3",
   "version": "3.12.3"
  }
 },
 "nbformat": 4,
 "nbformat_minor": 4
}
